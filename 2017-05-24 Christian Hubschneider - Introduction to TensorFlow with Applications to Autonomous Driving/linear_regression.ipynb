{
 "cells": [
  {
   "cell_type": "markdown",
   "metadata": {},
   "source": [
    "# Linear Regression with TensorFlow\n",
    "What can I expect my blood pressure to be when I am 31?"
   ]
  },
  {
   "cell_type": "code",
   "execution_count": 1,
   "metadata": {
    "collapsed": true
   },
   "outputs": [],
   "source": [
    "import numpy as np\n",
    "import tensorflow as tf\n",
    "import matplotlib.pyplot as plt\n",
    "import matplotlib\n",
    "\n",
    "import time\n",
    "import datetime as dt\n",
    "\n",
    "%matplotlib inline\n",
    "matplotlib.rcParams['figure.figsize'] = (10.0, 5.0)"
   ]
  },
  {
   "cell_type": "markdown",
   "metadata": {},
   "source": [
    "## Blood pressure (systolic values) for given ages"
   ]
  },
  {
   "cell_type": "code",
   "execution_count": 2,
   "metadata": {
    "collapsed": true
   },
   "outputs": [],
   "source": [
    "# Data from https://people.sc.fsu.edu/~jburkardt/datasets/regression/x03.txt\n",
    "# Thanks to Helmut Spaeth\n",
    "blood_pressure = np.array([[ 39,  47,  45,  47,  65,  46,  67,  42,  67,  56,  64,  56,  59,  34,  42,\n",
    "                             48,  45,  17,  20,  19,  36,  50,  39,  21,  44,  53,  63,  29,  25,  69],\n",
    "                           [144, 220, 138, 145, 162, 142, 170, 124, 158, 154, 162, 150, 140, 110, 128,\n",
    "                            130, 135, 114, 116, 124, 136, 142, 120, 120, 160, 158, 144, 130, 125, 175]])"
   ]
  },
  {
   "cell_type": "code",
   "execution_count": 3,
   "metadata": {},
   "outputs": [
    {
     "data": {
      "image/png": "[encoded data removed]",
      "text/plain": [
       "<matplotlib.figure.Figure at 0x110b5a990>"
      ]
     },
     "metadata": {},
     "output_type": "display_data"
    }
   ],
   "source": [
    "plt.plot(blood_pressure[0], blood_pressure[1], \".\", markersize=12)\n",
    "plt.ylabel(\"Blood Pressure\")\n",
    "plt.xlabel(\"Age\")\n",
    "#plt.savefig(\"blood_pressure.png\", dpi=600, bbox_inches='tight', transparent=True)\n",
    "plt.show()"
   ]
  },
  {
   "cell_type": "markdown",
   "metadata": {},
   "source": [
    "## Create TensorFlow graph for linear regression"
   ]
  },
  {
   "cell_type": "code",
   "execution_count": 4,
   "metadata": {
    "collapsed": true
   },
   "outputs": [],
   "source": [
    "# Placeholders for graph input\n",
    "# None means we are agnostic to batch size in placeholder variables\n",
    "x = tf.placeholder(tf.float32, [None, 1], name='x')        # placeholder for input data\n",
    "y = tf.placeholder(tf.float32, [None, 1], name='y')       # placeholder for labels"
   ]
  },
  {
   "cell_type": "code",
   "execution_count": 5,
   "metadata": {},
   "outputs": [],
   "source": [
    "# Set up variables required for linear regression\n",
    "W = tf.get_variable(\"W\", [1,1], initializer=tf.truncated_normal_initializer) # weight matrix W\n",
    "b = tf.get_variable(\"b\", [1], initializer=tf.truncated_normal_initializer)   # intersect b"
   ]
  },
  {
   "cell_type": "code",
   "execution_count": 6,
   "metadata": {
    "collapsed": true
   },
   "outputs": [],
   "source": [
    "# Linear regression (defined as matrix multiplication)\n",
    "y_pred = tf.matmul(x, W) + b"
   ]
  },
  {
   "cell_type": "code",
   "execution_count": 7,
   "metadata": {
    "collapsed": true
   },
   "outputs": [],
   "source": [
    "# Cost function defined as mean squared error: mean((y_ - y)^2)\n",
    "mse = tf.reduce_mean(tf.square(y - y_pred))"
   ]
  },
  {
   "cell_type": "code",
   "execution_count": 8,
   "metadata": {},
   "outputs": [
    {
     "data": {
      "text/plain": [
       "<tf.Tensor '0_Loss:0' shape=() dtype=string>"
      ]
     },
     "execution_count": 8,
     "metadata": {},
     "output_type": "execute_result"
    }
   ],
   "source": [
    "# Define summaries to be shown in TensorBoard\n",
    "tf.summary.scalar(\"Weight\", W[0][0])\n",
    "tf.summary.scalar(\"Bias\", b[0])\n",
    "tf.summary.scalar(\"0_Loss\", mse)"
   ]
  },
  {
   "cell_type": "code",
   "execution_count": 9,
   "metadata": {
    "collapsed": true
   },
   "outputs": [],
   "source": [
    "steps = 40000\n",
    "learning_rate = 0.0004\n",
    "\n",
    "# Define a training step using Gradient Decent to minimize the mean squared error\n",
    "optimization = tf.train.GradientDescentOptimizer(learning_rate=learning_rate).minimize(mse)"
   ]
  },
  {
   "cell_type": "code",
   "execution_count": 10,
   "metadata": {
    "scrolled": true
   },
   "outputs": [
    {
     "name": "stdout",
     "output_type": "stream",
     "text": [
      "After iteration: 0\n",
      "W: 6.748569\n",
      "b: -0.775621\n",
      "MSE: 33838.027344\n",
      "After iteration: 1000\n",
      "W: 2.804098\n",
      "b: 6.794694\n",
      "MSE: 1123.972168\n",
      "After iteration: 2000\n",
      "W: 2.663320\n",
      "b: 13.853487\n",
      "MSE: 999.294922\n",
      "After iteration: 3000\n",
      "W: 2.533352\n",
      "b: 20.370216\n",
      "MSE: 893.031189\n",
      "After iteration: 4000\n",
      "W: 2.413365\n",
      "b: 26.386496\n",
      "MSE: 802.461487\n",
      "After iteration: 5000\n",
      "W: 2.302592\n",
      "b: 31.940777\n",
      "MSE: 725.267761\n",
      "After iteration: 6000\n",
      "W: 2.200325\n",
      "b: 37.068531\n",
      "MSE: 659.474609\n",
      "After iteration: 7000\n",
      "W: 2.105912\n",
      "b: 41.802502\n",
      "MSE: 603.398438\n",
      "After iteration: 8000\n",
      "W: 2.018749\n",
      "b: 46.172951\n",
      "MSE: 555.603882\n",
      "After iteration: 9000\n",
      "W: 1.938280\n",
      "b: 50.207779\n",
      "MSE: 514.868103\n",
      "After iteration: 10000\n",
      "W: 1.863990\n",
      "b: 53.932755\n",
      "MSE: 480.148621\n",
      "After iteration: 11000\n",
      "W: 1.795405\n",
      "b: 57.371674\n",
      "MSE: 450.556824\n",
      "After iteration: 12000\n",
      "W: 1.732087\n",
      "b: 60.546509\n",
      "MSE: 425.335327\n",
      "After iteration: 13000\n",
      "W: 1.673631\n",
      "b: 63.477543\n",
      "MSE: 403.838806\n",
      "After iteration: 14000\n",
      "W: 1.619664\n",
      "b: 66.183502\n",
      "MSE: 385.516998\n",
      "After iteration: 15000\n",
      "W: 1.569841\n",
      "b: 68.681679\n",
      "MSE: 369.901001\n",
      "After iteration: 16000\n",
      "W: 1.523845\n",
      "b: 70.987999\n",
      "MSE: 356.591339\n",
      "After iteration: 17000\n",
      "W: 1.481381\n",
      "b: 73.117180\n",
      "MSE: 345.247559\n",
      "After iteration: 18000\n",
      "W: 1.442176\n",
      "b: 75.082932\n",
      "MSE: 335.578735\n",
      "After iteration: 19000\n",
      "W: 1.405983\n",
      "b: 76.897690\n",
      "MSE: 327.338226\n",
      "After iteration: 20000\n",
      "W: 1.372571\n",
      "b: 78.573021\n",
      "MSE: 320.314819\n",
      "After iteration: 21000\n",
      "W: 1.341723\n",
      "b: 80.119759\n",
      "MSE: 314.328430\n",
      "After iteration: 22000\n",
      "W: 1.313245\n",
      "b: 81.547699\n",
      "MSE: 309.226379\n",
      "After iteration: 23000\n",
      "W: 1.286953\n",
      "b: 82.865990\n",
      "MSE: 304.877716\n",
      "After iteration: 24000\n",
      "W: 1.262681\n",
      "b: 84.083038\n",
      "MSE: 301.171417\n",
      "After iteration: 25000\n",
      "W: 1.240271\n",
      "b: 85.206680\n",
      "MSE: 298.012238\n",
      "After iteration: 26000\n",
      "W: 1.219584\n",
      "b: 86.243973\n",
      "MSE: 295.319885\n",
      "After iteration: 27000\n",
      "W: 1.200484\n",
      "b: 87.201645\n",
      "MSE: 293.024994\n",
      "After iteration: 28000\n",
      "W: 1.182852\n",
      "b: 88.085724\n",
      "MSE: 291.069153\n",
      "After iteration: 29000\n",
      "W: 1.166574\n",
      "b: 88.901932\n",
      "MSE: 289.402130\n",
      "After iteration: 30000\n",
      "W: 1.151546\n",
      "b: 89.655449\n",
      "MSE: 287.981262\n",
      "After iteration: 31000\n",
      "W: 1.137670\n",
      "b: 90.351212\n",
      "MSE: 286.770233\n",
      "After iteration: 32000\n",
      "W: 1.124863\n",
      "b: 90.993378\n",
      "MSE: 285.738159\n",
      "After iteration: 33000\n",
      "W: 1.113036\n",
      "b: 91.586372\n",
      "MSE: 284.858337\n",
      "After iteration: 34000\n",
      "W: 1.102121\n",
      "b: 92.133690\n",
      "MSE: 284.108673\n",
      "After iteration: 35000\n",
      "W: 1.092040\n",
      "b: 92.639145\n",
      "MSE: 283.469452\n",
      "After iteration: 36000\n",
      "W: 1.082736\n",
      "b: 93.105644\n",
      "MSE: 282.924866\n",
      "After iteration: 37000\n",
      "W: 1.074146\n",
      "b: 93.536354\n",
      "MSE: 282.460663\n",
      "After iteration: 38000\n",
      "W: 1.066217\n",
      "b: 93.933952\n",
      "MSE: 282.065002\n",
      "After iteration: 39000\n",
      "W: 1.058895\n",
      "b: 94.301086\n",
      "MSE: 281.727753\n"
     ]
    }
   ],
   "source": [
    "# ------------------------------\n",
    "# Activate logging for TensorBoard\n",
    "# all logging data is written to a directory named \"log\" in the directory jupyter was started from\n",
    "merged = tf.summary.merge_all()\n",
    "st = dt.datetime.fromtimestamp(time.time()).strftime('%Y-%m-%d_%H-%M-%S')\n",
    "train_writer = tf.summary.FileWriter('log/lr_' + st, tf.get_default_graph())\n",
    "# ------------------------------\n",
    "\n",
    "\n",
    "# Create the TensorFlow session to work with\n",
    "with tf.Session() as sess:\n",
    "    # As the graph construction did not initialize anything, we have to do it explicitly.\n",
    "    init = tf.global_variables_initializer()\n",
    "    sess.run(init)\n",
    "    \n",
    "    # Loop over all steps and perform training updates on W and b\n",
    "    for i in range(steps):      \n",
    "        # Instead of MiniBatches we can use the whole set here\n",
    "        xs = np.array([blood_pressure[0]]).transpose(1,0)   # age\n",
    "        ys = np.array([blood_pressure[1]]).transpose(1,0)   # blood pressure\n",
    "        summary, _ = sess.run([merged, optimization], feed_dict={ x: xs, y: ys })\n",
    "        train_writer.add_summary(summary, i) \n",
    "        \n",
    "        # print training progress every 1000th iteration\n",
    "        if i % 1000 == 0:\n",
    "            print \"After iteration: %d\" % i\n",
    "            W_tmp, b_tmp, mse_tmp = sess.run([W, b, mse], feed_dict={ x: xs, y: ys })\n",
    "            print \"W: %f\\nb: %f\\nMSE: %f\" % (W_tmp, b_tmp, mse_tmp)\n",
    "        \n",
    "    # Assign to Python variables to use the values outside of TensorFlow\n",
    "    _W = sess.run(W)[0][0]\n",
    "    _b = sess.run(b)"
   ]
  },
  {
   "cell_type": "markdown",
   "metadata": {},
   "source": [
    "### Now we can plot out result"
   ]
  },
  {
   "cell_type": "code",
   "execution_count": 11,
   "metadata": {
    "scrolled": true
   },
   "outputs": [
    {
     "data": {
      "image/png": "[encoded data removed]",
      "text/plain": [
       "<matplotlib.figure.Figure at 0x1135a3250>"
      ]
     },
     "metadata": {},
     "output_type": "display_data"
    }
   ],
   "source": [
    "plt.plot(blood_pressure[0], blood_pressure[1], \".\", markersize=12)\n",
    "x1 = min(blood_pressure[0])\n",
    "x2 = max(blood_pressure[0])\n",
    "plt.plot([x1, x2], [_b + _W * x1, _b + _W * x2], color='r', linestyle='-', linewidth=3)\n",
    "plt.show()"
   ]
  },
  {
   "cell_type": "markdown",
   "metadata": {},
   "source": [
    "### Now, what can I expect my blood pressure to be when I am 31?"
   ]
  },
  {
   "cell_type": "code",
   "execution_count": 12,
   "metadata": {},
   "outputs": [
    {
     "name": "stdout",
     "output_type": "stream",
     "text": [
      "[ 127.25610352]\n"
     ]
    }
   ],
   "source": [
    "# Predicted blood pressure at age 31:\n",
    "print _b + _W * 31"
   ]
  },
  {
   "cell_type": "code",
   "execution_count": null,
   "metadata": {
    "collapsed": true
   },
   "outputs": [],
   "source": []
  }
 ],
 "metadata": {
  "kernelspec": {
   "display_name": "Python 2",
   "language": "python",
   "name": "python2"
  },
  "language_info": {
   "codemirror_mode": {
    "name": "ipython",
    "version": 2
   },
   "file_extension": ".py",
   "mimetype": "text/x-python",
   "name": "python",
   "nbconvert_exporter": "python",
   "pygments_lexer": "ipython2",
   "version": "2.7.10"
  }
 },
 "nbformat": 4,
 "nbformat_minor": 2
}
