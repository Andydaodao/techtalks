{
 "cells": [
  {
   "cell_type": "code",
   "execution_count": 1,
   "metadata": {},
   "outputs": [],
   "source": [
    "from cpt import * "
   ]
  },
  {
   "cell_type": "markdown",
   "metadata": {},
   "source": [
    "# Conditional Probability Tables"
   ]
  },
  {
   "cell_type": "code",
   "execution_count": 2,
   "metadata": {
    "collapsed": true
   },
   "outputs": [],
   "source": [
    "V_burglar = Variable('burglar', [True, False])\n",
    "V_storm = Variable('storm', [True, False])\n",
    "V_report = Variable('report', [True, False])\n",
    "V_window = Variable('window', [True, False])\n",
    "V_alarm = Variable('alarm', [True, False])\n",
    "\n",
    "P_burglar = CPT([0.001, 0.999], [V_burglar])\n",
    "P_storm = CPT([0.01, 0.99], [V_storm])\n",
    "\n",
    "# P(report | storm)\n",
    "CP_report = CPT([0.9, 0.02, 0.1, 0.98], [V_report, V_storm])\n",
    "\n",
    "# P(window | storm, burglar)\n",
    "CP_window = CPT([0.95, 0.9, 0.5, 0.0, 0.05, 0.1, 0.5, 1.0],\n",
    "                [V_window, V_burglar, V_storm])\n",
    "\n",
    "# P(alarm | window)\n",
    "CP_alarm = CPT([0.95, 0.01, 0.05, 0.99], [V_alarm, V_window])"
   ]
  },
  {
   "cell_type": "code",
   "execution_count": 3,
   "metadata": {},
   "outputs": [
    {
     "name": "stdout",
     "output_type": "stream",
     "text": [
      "(burglar) value\n",
      "--------- -----\n",
      "(True,)   0.001\n",
      "(False,)  0.999\n"
     ]
    }
   ],
   "source": [
    "# Print some tables\n",
    "print(P_burglar)"
   ]
  },
  {
   "cell_type": "code",
   "execution_count": 4,
   "metadata": {},
   "outputs": [
    {
     "name": "stdout",
     "output_type": "stream",
     "text": [
      "(report, storm) value\n",
      "--------------- ------\n",
      "(True, True)    0.009\n",
      "(True, False)   0.0198\n",
      "(False, True)   0.001\n",
      "(False, False)  0.9702\n"
     ]
    }
   ],
   "source": [
    "# Join: Compute P(report|storm), P(storm) => P(storm, report)\n",
    "P_SR = join(CP_report, P_storm)\n",
    "print(P_SR)"
   ]
  },
  {
   "cell_type": "code",
   "execution_count": 5,
   "metadata": {},
   "outputs": [
    {
     "name": "stdout",
     "output_type": "stream",
     "text": [
      "(report) value\n",
      "-------- ------\n",
      "(True,)  0.0288\n",
      "(False,) 0.9712\n"
     ]
    }
   ],
   "source": [
    "# Marginalize: Compute P(report) from P(storm, report)\n",
    "P_R = marginalize(P_SR, ['report'])\n",
    "print(P_R)"
   ]
  },
  {
   "cell_type": "code",
   "execution_count": 6,
   "metadata": {},
   "outputs": [
    {
     "name": "stdout",
     "output_type": "stream",
     "text": [
      "(burglar, storm, report, window, alarm) value\n",
      "--------------------------------------- -----------\n",
      "(True, True, True, True, True)          8.1225e-06\n",
      "(True, True, True, True, False)         4.275e-07\n",
      "(True, True, True, False, True)         4.5e-09\n",
      "(True, True, True, False, False)        4.455e-07\n",
      "(True, True, False, True, True)         9.025e-07\n",
      "(True, True, False, True, False)        4.75e-08\n",
      "(True, True, False, False, True)        5e-10\n",
      "(True, True, False, False, False)       4.95e-08\n",
      "(True, False, True, True, True)         1.6929e-05\n",
      "(True, False, True, True, False)        8.91e-07\n",
      "(True, False, True, False, True)        1.98e-08\n",
      "(True, False, True, False, False)       1.9602e-06\n",
      "(True, False, False, True, True)        0.000829521\n",
      "(True, False, False, True, False)       4.3659e-05\n",
      "(True, False, False, False, True)       9.702e-07\n",
      "(True, False, False, False, False)      9.60498e-05\n",
      "(False, True, True, True, True)         0.004270725\n",
      "(False, True, True, True, False)        0.000224775\n",
      "(False, True, True, False, True)        4.4955e-05\n",
      "(False, True, True, False, False)       0.004450545\n",
      "(False, True, False, True, True)        0.000474525\n",
      "(False, True, False, True, False)       2.4975e-05\n",
      "(False, True, False, False, True)       4.995e-06\n",
      "(False, True, False, False, False)      0.000494505\n",
      "(False, False, True, True, True)        0.0\n",
      "(False, False, True, True, False)       0.0\n",
      "(False, False, True, False, True)       0.000197802\n",
      "(False, False, True, False, False)      0.019582398\n",
      "(False, False, False, True, True)       0.0\n",
      "(False, False, False, True, False)      0.0\n",
      "(False, False, False, False, True)      0.009692298\n",
      "(False, False, False, False, False)     0.959537502\n"
     ]
    }
   ],
   "source": [
    "# Compute the joint distribution over all variables\n",
    "P_DSRAW = reduce(join, [P_burglar, P_storm, CP_report, CP_window, CP_alarm])\n",
    "print(P_DSRAW)"
   ]
  },
  {
   "cell_type": "code",
   "execution_count": 7,
   "metadata": {},
   "outputs": [
    {
     "name": "stdout",
     "output_type": "stream",
     "text": [
      "(burglar) value\n",
      "--------- ---------------\n",
      "(True,)   0.0755592262412\n",
      "(False,)  0.924440773759\n"
     ]
    }
   ],
   "source": [
    "# Add observations alarm=True and report=False\n",
    "P_posteriori = eliminate(eliminate(P_DSRAW, 'alarm', True), 'report', False)\n",
    "# Marginalize to burglar\n",
    "P_burglar_post = marginalize(P_posteriori, 'burglar')\n",
    "print(P_burglar_post)"
   ]
  },
  {
   "cell_type": "markdown",
   "metadata": {},
   "source": [
    "# Factor Graph"
   ]
  },
  {
   "cell_type": "code",
   "execution_count": 8,
   "metadata": {},
   "outputs": [],
   "source": [
    "f = FactorGraph([V_burglar, V_storm, V_window, V_alarm, V_report], \n",
    "                [P_burglar, P_storm, CP_window, CP_alarm, CP_report])"
   ]
  },
  {
   "cell_type": "code",
   "execution_count": 9,
   "metadata": {},
   "outputs": [],
   "source": [
    "f.forward_backward_pass()"
   ]
  },
  {
   "cell_type": "code",
   "execution_count": 10,
   "metadata": {},
   "outputs": [
    {
     "data": {
      "text/plain": [
       "(alarm)  value\n",
       "-------- ----------\n",
       "(True,)  0.01554177\n",
       "(False,) 0.98445823"
      ]
     },
     "execution_count": 10,
     "metadata": {},
     "output_type": "execute_result"
    }
   ],
   "source": [
    "f.posterior(V_alarm)"
   ]
  },
  {
   "cell_type": "markdown",
   "metadata": {},
   "source": [
    "### Now build a factor graph with our additional observations"
   ]
  },
  {
   "cell_type": "code",
   "execution_count": 11,
   "metadata": {},
   "outputs": [
    {
     "name": "stdout",
     "output_type": "stream",
     "text": [
      "(burglar) value\n",
      "--------- ---------------\n",
      "(True,)   0.0755592262412\n",
      "(False,)  0.924440773759\n"
     ]
    }
   ],
   "source": [
    "NEW_P_alarm = CPT([1.0, 0.0], [V_alarm])\n",
    "NEW_P_report = CPT([0.0, 1.0], [V_report])\n",
    "\n",
    "f2 = FactorGraph([V_burglar, V_storm, V_window, V_alarm, V_report], \n",
    "                 [P_burglar, P_storm, CP_window, CP_alarm, CP_report,\n",
    "                  NEW_P_alarm, NEW_P_report])\n",
    "\n",
    "f2.forward_backward_pass()\n",
    "print(f2.posterior(V_burglar))"
   ]
  }
 ],
 "metadata": {
  "kernelspec": {
   "display_name": "Python 2",
   "language": "python",
   "name": "python2"
  },
  "language_info": {
   "codemirror_mode": {
    "name": "ipython",
    "version": 2
   },
   "file_extension": ".py",
   "mimetype": "text/x-python",
   "name": "python",
   "nbconvert_exporter": "python",
   "pygments_lexer": "ipython2",
   "version": "2.7.12"
  }
 },
 "nbformat": 4,
 "nbformat_minor": 2
}
